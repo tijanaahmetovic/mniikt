{
 "cells": [
  {
   "cell_type": "code",
   "execution_count": 1,
   "id": "54e0e1f1",
   "metadata": {},
   "outputs": [
    {
     "data": {
      "text/html": [
       "<h2>Влијанието на COVID-19 врз онлајн учењето: <h2>"
      ],
      "text/plain": [
       "<IPython.core.display.HTML object>"
      ]
     },
     "metadata": {},
     "output_type": "display_data"
    },
    {
     "data": {
      "text/html": [
       "<h3>Одберете график со резултати според прашањето поставено во анкетата: <h3>"
      ],
      "text/plain": [
       "<IPython.core.display.HTML object>"
      ]
     },
     "metadata": {},
     "output_type": "display_data"
    },
    {
     "data": {
      "application/vnd.jupyter.widget-view+json": {
       "model_id": "9729a21068594e03b81682a8ef2698ae",
       "version_major": 2,
       "version_minor": 0
      },
      "text/plain": [
       "interactive(children=(Dropdown(description='question', options=('Одберете степен на образование:', 'Пол', 'Как…"
      ]
     },
     "metadata": {},
     "output_type": "display_data"
    }
   ],
   "source": [
    "from ipywidgets import interact\n",
    "import matplotlib.pyplot as plt\n",
    "from IPython.display import display, HTML\n",
    "\n",
    "results = {\n",
    "    \"Одберете степен на образование:\": [[\"Студент\", \"Ученик во средно образование\", \"Ученик во основно образование\"],[43, 12, 6]],\n",
    "    \"Пол\": [[\"Женски\", \"Машки\"],[39, 22]],\n",
    "    \"Како се одвиваше Вашата настава за време на COVID-19 кризата?\": [[\"Од дома со онлајн учење\", \"Со физичко присуство\",\n",
    "                                                                      \"Хибридно\"],[46, 3, 12]],\n",
    "    \"Дали сте имале настава од дома пред COVID-19 кризата?\": [[\"Не\", \"Да\"],[61, 0]],\n",
    "    \"Дали имавте технички можности за да следите настава од дома?\": [[\"Да\", \"Не\", \"Не следев настава од дома\"],[51, 7, 3]],\n",
    "    \"Дали имавте техничка помош од универзитетите/училиштата за време на COVID-19 пандемијата?\": [[\"Да\", \"Не\",\n",
    "                                                                                                  \"Немав потреба од техничка помош\"],[21, 25, 15]],\n",
    "    \"Дали лесно се прилагодивте на промената на начинот на настава?\": [[\"Да\", \"Не\", \"Не следев настава од дома\"], [46, 12, 3]],\n",
    "    \"Каков е квалитетот на наставата онлајн во споредба со наставата со физичко присуство?\": [[\"Подобар\", \"Ист\", \"Полош\",\n",
    "                                                                                              \"Не следев настава од дома\"],\n",
    "                                                                                              [9, 28, 21, 3]],\n",
    "    \"Дали би сакале и понатаму наставата да се одвива онлајн?\": [[\"Да\", \"Не\", \"Не следев настава од дома\"],[33, 25, 3]],\n",
    "    \"Дали Вашите оцени се подобрија следејќи настава од дома?\": [[\"Да\", \" Не \", \" Не следев настава од дома \",\n",
    "                                                                 \" Не, полоши се \"],[30, 18, 10, 3]],\n",
    "    \"За колку време од почетокот на пандемијата Вашиот универзитет/училиште се префрли од настава со физичко присуство во онлајн настава?\": [[\n",
    "  \"За брзо време\", \"Потребно беше некое време за да се префрлат\", \"Не се префрлија\"], [40, 18, 3]]\n",
    "\n",
    "}\n",
    "questions = results.keys()\n",
    "display(HTML(f'<h2>Влијанието на COVID-19 врз онлајн учењето: <h2>'))\n",
    "display(HTML(f'<h3>Одберете график со резултати според прашањето поставено во анкетата: <h3>'))\n",
    "\n",
    "@interact\n",
    "def show_articles_more_than(question=questions):\n",
    "    plt.bar(results[question][0], results[question][1])\n",
    "    plt.title(question)\n",
    "    plt.show()\n",
    "    plt.close()\n",
    "\n"
   ]
  },
  {
   "cell_type": "code",
   "execution_count": null,
   "id": "275a311e",
   "metadata": {},
   "outputs": [],
   "source": []
  }
 ],
 "metadata": {
  "kernelspec": {
   "display_name": "Python 3 (ipykernel)",
   "language": "python",
   "name": "python3"
  },
  "language_info": {
   "codemirror_mode": {
    "name": "ipython",
    "version": 3
   },
   "file_extension": ".py",
   "mimetype": "text/x-python",
   "name": "python",
   "nbconvert_exporter": "python",
   "pygments_lexer": "ipython3",
   "version": "3.8.6"
  }
 },
 "nbformat": 4,
 "nbformat_minor": 5
}
